{
 "cells": [
  {
   "cell_type": "markdown",
   "metadata": {},
   "source": [
    "<img style=\"float: left; margin: 30px 15px 15px 15px;\" src=\"https://pngimage.net/wp-content/uploads/2018/06/logo-iteso-png-5.png\" width=\"300\" height=\"500\" />   \n"
   ]
  },
  {
   "cell_type": "markdown",
   "metadata": {},
   "source": [
    "### <font color='navy'> Simulación de Procesos Financieros. \n",
    "\n",
    "**Nombres:** José Alberto Mayagoitia Gutiérrez  \n",
    "             Alexia Marisol Díaz Verduzco\n",
    "\n",
    "**Fecha:** 31 de Agosto 2021\n",
    "\n",
    "**Expedientes:** IF720266  \n",
    "                 IF720500  \n",
    "    \n",
    "**Profesor:** Oscar David Jaramillo Zuluaga\n",
    "    \n",
    "**Link Github**: \n",
    "\n",
    "# Tarea 1: Clase 2"
   ]
  },
  {
   "cell_type": "markdown",
   "metadata": {},
   "source": [
    "## Tarea 1- git\n",
    "> Descripción de la tarea\n",
    "realizar una presentación describiendo sus expectativas del curso y la transcipción de la Figura 1 y Figura 2 respectivamente, haciendo uso de la sintaxis Markdown."
   ]
  },
  {
   "cell_type": "markdown",
   "metadata": {},
   "source": [
    "## Presentación Estudiante 1"
   ]
  },
  {
   "cell_type": "markdown",
   "metadata": {},
   "source": [
    "### ¿Quién soy yo?  \n",
    "\n",
    "_Mi nombre es José Alberto Mayagoitia Gutiérrez_, **nací el 29 de Septiembre del 2000**, actualmente tengo 20 años y voy en el 7mo semestre de la carrera de *ingenieria financiera*</span>\n"
   ]
  },
  {
   "cell_type": "markdown",
   "metadata": {},
   "source": [
    "### Expectativas del curso \n",
    "De este curso espero poder aprender a analizar el comportamiento de distintos procesos financieros, y a la vez poder crear estrategias que me permitan tomar la mejor decisión de inversión.\n",
    "\n",
    "A la vez tambien me gustaria seguir aprendiendo más sobre programación para mejorar mis capacidades y desempeños en la escuela y en un futuro ambito profesional. Espero que tanto las clases, tareas, proyectos y actividades me ayuden a desarrollarme en los ambitos que quiero."
   ]
  },
  {
   "cell_type": "markdown",
   "metadata": {},
   "source": [
    "### Transcripción figura 1"
   ]
  },
  {
   "cell_type": "markdown",
   "metadata": {},
   "source": [
    "\\begin{array}{|c|c|c|}\n",
    "\\hline i & x & f (x) \\\\\n",
    "\\hline 0 & -1 & 0.3678 \\\\\n",
    "\\color{red}{1}&\\color{red}{-0.5}&\\color{red}{0.7788} \\\\\n",
    "\\color{blue}{2}&\\color{blue}{0}&\\color{blue}{1} \\\\\n",
    "\\color{red}{3}&\\color{red}{0.5}&\\color{red}{0.7788} \\\\\n",
    "4&1&0.3678 \\\\\n",
    "\\hline\n",
    "\\end{array}\n",
    "\n",
    "<div align=\"center\"> Cuadro 1: Tabla de valores de $f(x)$</div>"
   ]
  },
  {
   "cell_type": "markdown",
   "metadata": {},
   "source": [
    "<div align=\"center\"> $\\int_{-1}^1 e^{-x^2}  dx$$ ≈ $${0,5\\over 3}$$  [f(-1)+f(1)+4$(<font color= red > $f(-0,5)+f(0,5)$</font>)$+2$<font color= blue > $f(0)$</font>$]$ </div>\n",
    "\n",
    "<div align=\"center\"> $ ≈ {0,5\\over 3}$$  [0,3678+0,3678+4$(<font color= red > $0,7788 + 0,7788$</font>)$+2$ $\\cdot$ <font color= blue > $1$</font>$]$ $\\approx$ $1,4943$</div>"
   ]
  },
  {
   "cell_type": "markdown",
   "metadata": {},
   "source": [
    "<div align=\"center\"> \n",
    "            A modo de verificación, se calculara por software, el valor del área para n=100, un valor mucho\n",
    "    más elevado al que se utilizó anteriormente. Si lo calculado previamente es correcto, se esperaría que sea el próximo al       valor presentado a continuación para ser una buena aproximación.</div>"
   ]
  },
  {
   "cell_type": "markdown",
   "metadata": {},
   "source": [
    "$$\\int_{-1}^1 e^{-x^2}  dx≈1,4936$$"
   ]
  },
  {
   "cell_type": "code",
   "execution_count": null,
   "metadata": {},
   "outputs": [],
   "source": [
    "# Código de solución estudiante 2\n",
    ".\n",
    ".\n",
    ".\n",
    ".\n"
   ]
  },
  {
   "cell_type": "markdown",
   "metadata": {},
   "source": [
    "### Respuesta planteada en el ejercicio usando (markdown)\n",
    " La respuesta es ........."
   ]
  }
 ],
 "metadata": {
  "kernelspec": {
   "display_name": "Python 3",
   "language": "python",
   "name": "python3"
  },
  "language_info": {
   "codemirror_mode": {
    "name": "ipython",
    "version": 3
   },
   "file_extension": ".py",
   "mimetype": "text/x-python",
   "name": "python",
   "nbconvert_exporter": "python",
   "pygments_lexer": "ipython3",
   "version": "3.7.3"
  }
 },
 "nbformat": 4,
 "nbformat_minor": 2
}
